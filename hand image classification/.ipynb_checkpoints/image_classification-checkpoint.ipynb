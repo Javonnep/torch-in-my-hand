{
 "cells": [
  {
   "cell_type": "markdown",
   "id": "adverse-reunion",
   "metadata": {},
   "source": [
    "## Imports and Utilities"
   ]
  },
  {
   "cell_type": "code",
   "execution_count": 1,
   "id": "recorded-above",
   "metadata": {},
   "outputs": [],
   "source": [
    "colab = False\n",
    "if colab:\n",
    "    colab_path = \"drive/MyDrive/\"\n",
    "    from google.colab import drive\n",
    "    drive.mount('/content/drive')\n",
    "else:\n",
    "    colab_path = \"\"\n"
   ]
  },
  {
   "cell_type": "code",
   "execution_count": 2,
   "id": "afraid-burlington",
   "metadata": {},
   "outputs": [
    {
     "name": "stdout",
     "output_type": "stream",
     "text": [
      "Populating the interactive namespace from numpy and matplotlib\n"
     ]
    }
   ],
   "source": [
    "#!pip install pycm livelossplot\n",
    "%pylab inline\n",
    "from torchvision.transforms import Normalize\n",
    "from sklearn.metrics import accuracy_score\n",
    "from sklearn.model_selection import StratifiedShuffleSplit\n",
    "from livelossplot import PlotLosses\n",
    "from pycm import *\n",
    "import torch\n",
    "import torch.nn as nn\n",
    "import torch.nn.functional as F\n",
    "from torch.utils.data import TensorDataset, DataLoader\n",
    "import torchvision.datasets\n",
    "import torchvision.transforms as transforms\n",
    "from torchvision.datasets import MNIST\n",
    "# from torchsummary import summary\n",
    "import matplotlib.pyplot as plt\n",
    "import numpy as np\n",
    "import random\n",
    "from torch.utils.data import Dataset\n",
    "import os\n",
    "from PIL import Image\n",
    "import numpy as np\n",
    "import torch\n",
    "import time\n",
    "import torch\n",
    "from torch.utils.data import ConcatDataset, random_split\n",
    "import PIL\n",
    "\n",
    "from sklearn.metrics import ConfusionMatrixDisplay\n",
    "\n",
    "import pandas as pd\n",
    "import numpy as np\n",
    "import seaborn as sns\n",
    "import matplotlib.pyplot as plt\n",
    "from sklearn.preprocessing import LabelEncoder, OneHotEncoder, StandardScaler, RobustScaler, MinMaxScaler\n",
    "from sklearn.model_selection import train_test_split, RandomizedSearchCV, cross_validate, cross_val_score, cross_val_predict, GridSearchCV\n",
    "from sklearn.dummy import DummyClassifier, DummyRegressor\n",
    "from sklearn.linear_model import SGDClassifier, SGDRegressor, LinearRegression, LogisticRegression, LogisticRegressionCV, Lasso, Ridge\n",
    "from sklearn.metrics import precision_recall_curve, accuracy_score, precision_score, recall_score, precision_score, f1_score, r2_score, roc_auc_score, mean_absolute_error\n",
    "import warnings\n",
    "import scipy\n",
    "warnings.filterwarnings('ignore')\n",
    "from sklearn import set_config\n",
    "from sklearn.compose import ColumnTransformer\n",
    "from sklearn.impute import SimpleImputer\n",
    "from sklearn.pipeline import Pipeline, make_pipeline, FeatureUnion\n",
    "from sklearn.svm import SVC, LinearSVC\n",
    "from sklearn.ensemble import RandomForestClassifier\n",
    "from sklearn.metrics import classification_report\n",
    " \n",
    "\n",
    "\n",
    "from torch.utils.data import DataLoader\n",
    "from torchvision.datasets.folder import default_loader\n",
    "\n"
   ]
  },
  {
   "cell_type": "code",
   "execution_count": 3,
   "id": "ranging-drive",
   "metadata": {
    "scrolled": true
   },
   "outputs": [
    {
     "data": {
      "text/plain": [
       "True"
      ]
     },
     "execution_count": 3,
     "metadata": {},
     "output_type": "execute_result"
    }
   ],
   "source": [
    "def set_seed(seed):\n",
    "    \"\"\"\n",
    "    Use this to set ALL the random seeds to a fixed value and take out any randomness from cuda kernels\n",
    "    \"\"\"\n",
    "    # ======================================================================\n",
    "    # This function was taken from the lecture notbooks\n",
    "    # ======================================================================\n",
    "\n",
    "    random.seed(seed)\n",
    "    np.random.seed(seed)\n",
    "    torch.manual_seed(seed)\n",
    "    torch.cuda.manual_seed_all(seed)\n",
    "\n",
    "    torch.backends.cudnn.benchmark = False  ## uses the inbuilt cudnn auto-tuner to find the fastest convolution algorithms. -\n",
    "    torch.backends.cudnn.enabled   = False\n",
    "\n",
    "    return True\n",
    "\n",
    "\n",
    "set_seed(42)"
   ]
  },
  {
   "cell_type": "code",
   "execution_count": 4,
   "id": "modern-endorsement",
   "metadata": {},
   "outputs": [
    {
     "name": "stdout",
     "output_type": "stream",
     "text": [
      "Cuda installed! Running on GPU!\n"
     ]
    }
   ],
   "source": [
    "device = 'cpu'\n",
    "if torch.cuda.device_count() > 0 and torch.cuda.is_available():\n",
    "    print(\"Cuda installed! Running on GPU!\")\n",
    "    device = 'cuda'\n",
    "else:\n",
    "    print(\"No GPU available!\")"
   ]
  },
  {
   "cell_type": "markdown",
   "id": "incorporate-director",
   "metadata": {},
   "source": [
    "## Helpers"
   ]
  },
  {
   "cell_type": "code",
   "execution_count": null,
   "id": "casual-female",
   "metadata": {},
   "outputs": [],
   "source": []
  },
  {
   "cell_type": "markdown",
   "id": "former-generator",
   "metadata": {},
   "source": [
    "## Data preparation"
   ]
  },
  {
   "cell_type": "code",
   "execution_count": 5,
   "id": "premier-horizontal",
   "metadata": {},
   "outputs": [],
   "source": [
    "class HandDataset(Dataset):\n",
    "    def __init__(self, data_path=f\"{colab_path}real_hands\", transformations=None):\n",
    "        self.data_path = data_path\n",
    "        self.transformations = transformations\n",
    "        self.data, self.targets = self.load_images_to_numpy_array(self.data_path)\n",
    "            \n",
    "    def load_images_to_numpy_array(self, directory):\n",
    "        file_names = [f for f in os.listdir(directory) if os.path.isfile(os.path.join(directory, f))]\n",
    "        images = []\n",
    "        labels = []\n",
    "        \n",
    "        for file_name in file_names:\n",
    "            img_path = os.path.join(directory, file_name)\n",
    "            try:\n",
    "                img = Image.open(img_path)\n",
    "\n",
    "                # Resize image to 32x32 if not already\n",
    "                if img.size != (32, 32):\n",
    "                    img = img.resize((32, 32))\n",
    "\n",
    "                # Convert image to grayscale if not already\n",
    "                if img.mode != 'L':  # 'L' mode is for grayscale\n",
    "                    img = img.convert('L')\n",
    "                \n",
    "                \n",
    "                if directory == f\"{colab_path}real_hands\":\n",
    "                    label = 0\n",
    "                elif directory == f\"{colab_path}VAE_hands\":\n",
    "                    label = 1\n",
    "                elif directory == f\"{colab_path}GAN_hands\":\n",
    "                    label = 2\n",
    "                elif directory == f\"{colab_path}test_hands\":\n",
    "                    label = None\n",
    "\n",
    "                labels.append(label)\n",
    "                # Convert the image to a NumPy array and append to the list\n",
    "                images.append(np.array(img, dtype=np.float32))\n",
    "                \n",
    "            except IOError:\n",
    "                print(f'Error loading image: {img_path}')\n",
    "                # checkpoint\n",
    "                labels.append(-1)\n",
    "                images.append(torch.randn(32,32))\n",
    "        \n",
    "        \n",
    "        return np.stack(images), np.array(labels)\n",
    "\n",
    "    def __getitem__(self, idx):\n",
    "        sample = self.data[idx]\n",
    "        \n",
    "        if self.transformations:\n",
    "            sample = self.transformations(sample)\n",
    "        \n",
    "        if self.data_path == f\"{colab_path}real_hands\":\n",
    "            label = 0        \n",
    "        elif self.data_path == f\"{colab_path}VAE_hands\":\n",
    "            label = 1\n",
    "        elif self.data_path == f\"{colab_path}GAN_hands\":\n",
    "            label = 2\n",
    "        elif self.data_path == f\"{colab_path}test_hands\":\n",
    "            label = None\n",
    "            \n",
    "        if self.data_path == f\"{colab_path}test_hands\":\n",
    "            return sample\n",
    "        elif self.data_path != f\"{colab_path}test_hands\":\n",
    "            return sample, label\n",
    "        \n",
    "    def __len__(self):\n",
    "        return self.data.shape[0]"
   ]
  },
  {
   "cell_type": "code",
   "execution_count": null,
   "id": "voluntary-darwin",
   "metadata": {},
   "outputs": [],
   "source": []
  },
  {
   "cell_type": "markdown",
   "id": "involved-objective",
   "metadata": {},
   "source": [
    "Some of the images seem to be corrupt. I can load the real_images, but when trying to load the VAE, or GAN datasets, I get errors. which suggests the issue is with the generated samples and not my loading method. I will be removing images:\n",
    "1. GAN_hand_235\n",
    "2. GAN_hand_273\n",
    "3. GAN_hand_147\n",
    "4. VAE_hand_330\n",
    "\n",
    "(Note: I am not removing any hands from the test set as that would de-syncronize my final prediction csv from the required order)"
   ]
  },
  {
   "cell_type": "code",
   "execution_count": 6,
   "id": "thirty-hungarian",
   "metadata": {},
   "outputs": [],
   "source": [
    "# init transformations\n",
    "\n",
    "train_transforms = transforms.Compose([\n",
    "    transforms.ToTensor(),\n",
    "    transforms.RandomRotation(6),\n",
    "    transforms.RandomHorizontalFlip(0.06),\n",
    "    transforms.RandomVerticalFlip(0.06),\n",
    "    transforms.GaussianBlur(3),\n",
    "#     standardisation and normalisation\n",
    "    transforms.Lambda(lambda x : x / 255.),\n",
    "    Normalize(mean=[0.5], std=[0.5]),\n",
    "])\n",
    "\n",
    "test_transforms = transforms.Compose([\n",
    "    transforms.ToTensor(),\n",
    "    # standardisation and normalisation\n",
    "    transforms.Lambda(lambda x : x / 255.),\n",
    "    Normalize(mean=[0.5], std=[0.5]),\n",
    "])\n",
    "\n",
    "# load datasets\n",
    "\n",
    "train_data_gan = HandDataset(\n",
    "    data_path=f\"{colab_path}GAN_hands\",\n",
    "    transformations = None,\n",
    ")\n",
    "\n",
    "train_data_vae = HandDataset(\n",
    "    data_path=f\"{colab_path}VAE_hands\",\n",
    "    transformations = None,\n",
    ")\n",
    "\n",
    "train_data_real = HandDataset(\n",
    "    data_path=f\"{colab_path}real_hands\",\n",
    "    transformations = None,\n",
    ")\n",
    "\n",
    "\n",
    "# https://chat.openai.com/share/8a2ee0f5-2db0-4a64-802d-6077caa6c256\n",
    "full_train_data = ConcatDataset([train_data_gan, train_data_vae, train_data_real])\n",
    "\n",
    "total_size = len(full_train_data)\n",
    "val_size = int(0.1 * total_size)\n",
    "train_size = total_size - val_size\n",
    "\n",
    "# Splitting the dataset\n",
    "train_data, validation_data = random_split(full_train_data, [train_size, val_size])\n"
   ]
  },
  {
   "cell_type": "code",
   "execution_count": null,
   "id": "mexican-console",
   "metadata": {},
   "outputs": [],
   "source": []
  },
  {
   "cell_type": "code",
   "execution_count": 7,
   "id": "extensive-douglas",
   "metadata": {},
   "outputs": [],
   "source": [
    "batch_size = 16"
   ]
  },
  {
   "cell_type": "code",
   "execution_count": 8,
   "id": "convertible-senate",
   "metadata": {},
   "outputs": [],
   "source": [
    "import torch\n",
    "from torch.utils.data import Dataset\n",
    "import torchvision.transforms as transforms\n",
    "import PIL.Image\n",
    "\n",
    "# ======================================================================\n",
    "# https://chat.openai.com/share/eefa286c-d0f4-44b4-b4a3-711bcd553b41\n",
    "# This was built mainly using Chat-GPT\n",
    "# This is a utility class that enables me to use apply transforms\n",
    "# selectively. It is necessary because the train and validation \n",
    "# data are at the same root\n",
    "# ======================================================================\n",
    "class CustomDataset(Dataset):\n",
    "    def __init__(self, dataset, transforms=None, test_set = False):\n",
    "        self.data = dataset\n",
    "        self.transforms = transforms\n",
    "        self.test_set = test_set\n",
    "\n",
    "    def __len__(self):\n",
    "        return len(self.data)\n",
    "\n",
    "    def __getitem__(self, idx):\n",
    "        \n",
    "        if not self.test_set:\n",
    "            image, label = self.data[idx]\n",
    "\n",
    "            # If you're using PIL images, you can convert them to tensors here\n",
    "            if isinstance(image, PIL.Image.Image):\n",
    "                image = transforms.ToTensor()(image)\n",
    "\n",
    "            if self.transforms is not None:\n",
    "                image = self.transforms(image)\n",
    "\n",
    "            return image, label\n",
    "        \n",
    "        elif self.test_set:\n",
    "            image = self.data[idx]\n",
    "\n",
    "            # If you're using PIL images, you can convert them to tensors here\n",
    "            if isinstance(image, PIL.Image.Image):\n",
    "                image = transforms.ToTensor()(image)\n",
    "\n",
    "            if self.transforms is not None:\n",
    "                image = self.transforms(image)\n",
    "\n",
    "            return image\n",
    "\n",
    "\n",
    "# Apply transforms using the custom dataset class\n",
    "train_dataset = CustomDataset(train_data, train_transforms)\n",
    "validation_dataset = CustomDataset(validation_data, test_transforms)\n",
    "\n",
    "# Create data loaders\n",
    "train_loader = DataLoader(train_dataset, batch_size=batch_size, shuffle=True)\n",
    "validation_loader = DataLoader(validation_dataset, batch_size=batch_size, shuffle=False)"
   ]
  },
  {
   "cell_type": "code",
   "execution_count": null,
   "id": "neither-recipe",
   "metadata": {},
   "outputs": [],
   "source": []
  },
  {
   "cell_type": "code",
   "execution_count": 9,
   "id": "animal-arcade",
   "metadata": {},
   "outputs": [],
   "source": [
    "train_loader = torch.utils.data.DataLoader(\n",
    "    train_data,\n",
    "    batch_size=batch_size,\n",
    "    shuffle=True,\n",
    "    pin_memory=True)\n",
    "\n",
    "validation_loader = torch.utils.data.DataLoader(\n",
    "    validation_data,\n",
    "    batch_size=batch_size,\n",
    "    shuffle=True,\n",
    "    pin_memory=True)\n",
    "\n"
   ]
  },
  {
   "cell_type": "code",
   "execution_count": 10,
   "id": "clear-republic",
   "metadata": {},
   "outputs": [
    {
     "name": "stdout",
     "output_type": "stream",
     "text": [
      "sample X.shape = torch.Size([16, 32, 32])\n",
      "sample y.shape = torch.Size([16])\n"
     ]
    }
   ],
   "source": [
    "X, y = next(iter(train_loader))\n",
    "print(f\"sample X.shape = {X.shape}\")\n",
    "print(f\"sample y.shape = {y.shape}\")"
   ]
  },
  {
   "cell_type": "code",
   "execution_count": null,
   "id": "proper-orbit",
   "metadata": {},
   "outputs": [],
   "source": []
  },
  {
   "cell_type": "markdown",
   "id": "distant-pollution",
   "metadata": {},
   "source": [
    "## Network design and implementation"
   ]
  },
  {
   "cell_type": "markdown",
   "id": "hairy-december",
   "metadata": {},
   "source": [
    "The traditional alexnet is N x (Conv-Pool) > M x (Dense) > Output for 224x224 images. \n",
    "\n",
    "With N = 5, M = 3\n",
    "\n"
   ]
  },
  {
   "cell_type": "code",
   "execution_count": 11,
   "id": "starting-competition",
   "metadata": {},
   "outputs": [
    {
     "data": {
      "text/plain": [
       "tensor([[ 0.0557, -0.0158, -0.0586],\n",
       "        [ 0.0527, -0.0375, -0.0605],\n",
       "        [ 0.0399, -0.0537, -0.0594],\n",
       "        [ 0.0472, -0.0336, -0.0839],\n",
       "        [ 0.0417, -0.0196, -0.0538],\n",
       "        [ 0.0423, -0.0096, -0.0817],\n",
       "        [ 0.0124, -0.0527, -0.0511],\n",
       "        [ 0.0251, -0.0241, -0.0831],\n",
       "        [ 0.0178, -0.0068, -0.1081],\n",
       "        [ 0.0499, -0.0565, -0.0871],\n",
       "        [ 0.0552, -0.0200, -0.0422],\n",
       "        [ 0.0359, -0.0164, -0.0554],\n",
       "        [ 0.0311, -0.0310, -0.0711],\n",
       "        [ 0.0239, -0.0083, -0.0588],\n",
       "        [ 0.0473, -0.0062, -0.0807],\n",
       "        [ 0.0526, -0.0130, -0.0782]], grad_fn=<AddmmBackward>)"
      ]
     },
     "execution_count": 11,
     "metadata": {},
     "output_type": "execute_result"
    }
   ],
   "source": [
    "class conv_net(nn.Module):\n",
    "    def __init__(self):\n",
    "        super(conv_net, self).__init__()\n",
    "        self.c1 = nn.Conv2d(in_channels=1, out_channels=6, kernel_size=3, stride=1, padding=2)\n",
    "        self.mp1 = nn.MaxPool2d(kernel_size=2, stride=2)\n",
    "\n",
    "        self.c2 = nn.Conv2d(6, 16, kernel_size=3, stride=1, padding=2)\n",
    "        self.mp2 = nn.MaxPool2d(kernel_size=2, stride=2)\n",
    "\n",
    "        self.c3 = nn.Conv2d(16, 6, kernel_size=3, stride=1, padding=2)\n",
    "        self.mp3 = nn.MaxPool2d(kernel_size=2, stride=1)\n",
    "\n",
    "        self.fc1 = nn.Linear(600, 864)\n",
    "        self.fc2 = nn.Linear(864, 216)\n",
    "        self.output = nn.Linear(216, 3)\n",
    "        self.activation = nn.Tanh()\n",
    "        self.dropout_1 = nn.Dropout(0.2)\n",
    "        self.dropout_2 = nn.Dropout(0.05)\n",
    "\n",
    "    def forward(self, x):\n",
    "        x = x.view(-1, 1, 32, 32)\n",
    "        # conv 1\n",
    "        x = self.c1(x)\n",
    "        x = self.activation(x)\n",
    "        x = self.mp1(x)\n",
    "        x = self.activation(x)\n",
    "        x = self.dropout_1(x)\n",
    "        \n",
    "        # conv 2\n",
    "        x = self.c2(x)\n",
    "        x = self.activation(x)\n",
    "        x = self.mp2(x)\n",
    "        x = self.activation(x)\n",
    "        x = self.dropout_2(x)\n",
    "        \n",
    "        # conv 3\n",
    "        x = self.c3(x)\n",
    "        x = self.activation(x)\n",
    "        x = self.mp3(x)\n",
    "        x = self.activation(x)\n",
    "        x = self.dropout_2(x)\n",
    "        \n",
    "        # switch to dense\n",
    "        x = x.view(-1, x.size(1)*x.size(2)*x.size(3))\n",
    "        \n",
    "        # linear 1\n",
    "        x = self.fc1(x)\n",
    "        x = self.activation(x)\n",
    "        \n",
    "        # linear 2\n",
    "        x = self.fc2(x)\n",
    "        x = self.activation(x)\n",
    "\n",
    "        return self.output(x)\n",
    "\n",
    "\n",
    "\n",
    "test_model = conv_net()\n",
    "output = test_model(X)\n",
    "output\n",
    "\n"
   ]
  },
  {
   "cell_type": "code",
   "execution_count": null,
   "id": "juvenile-spencer",
   "metadata": {},
   "outputs": [],
   "source": []
  },
  {
   "cell_type": "markdown",
   "id": "cubic-reduction",
   "metadata": {},
   "source": [
    "## Training and Evaluation loops\n"
   ]
  },
  {
   "cell_type": "code",
   "execution_count": 12,
   "id": "vietnamese-progressive",
   "metadata": {},
   "outputs": [],
   "source": [
    "def train(model, optimizer, criterion, data_loader):\n",
    "    model.train()\n",
    "    ### set the model to train\n",
    "    model.to(device)\n",
    "    train_loss, train_accuracy = 0, 0\n",
    "    for X, y in data_loader:\n",
    "        \n",
    "        X, y = X.to(device), y.to(device)\n",
    "        optimizer.zero_grad()\n",
    "        outputs = model(X.view(-1, 1, 32, 32))\n",
    "        \n",
    "        loss = criterion(outputs, y)\n",
    "        loss.backward()\n",
    "        train_loss += loss*y.size(0)\n",
    "        y_pred = F.log_softmax(outputs, dim=1).max(1)[1]\n",
    "        train_accuracy += accuracy_score(\n",
    "            y.cpu().numpy(), \n",
    "            y_pred.detach().cpu().numpy())*X.size(0)\n",
    "\n",
    "        optimizer.step()\n",
    "    return train_loss/len(data_loader.dataset), train_accuracy/len(data_loader.dataset)\n"
   ]
  },
  {
   "cell_type": "code",
   "execution_count": 13,
   "id": "referenced-yield",
   "metadata": {},
   "outputs": [],
   "source": [
    "def validate(model, criterion, data_loader):\n",
    "    model.to(device)\n",
    "    model.eval()\n",
    "    validation_loss, validation_accuracy = 0, 0\n",
    "    for X, y in data_loader:\n",
    "        with torch.no_grad():\n",
    "            X, y = X.to(device), y.to(device)\n",
    "            outputs = model(X.view(-1, 1, 32, 32))\n",
    "            loss = criterion(outputs, y)\n",
    "            validation_loss += loss*y.size(0)\n",
    "            y_pred = F.log_softmax(outputs, dim=1).max(1)[1]##\n",
    "            validation_accuracy += accuracy_score(\n",
    "                y.cpu().numpy(), \n",
    "                y_pred.detach().cpu().numpy())*X.size(0) ##\n",
    "    return validation_loss/len(data_loader.dataset), validation_accuracy/len(data_loader.dataset)"
   ]
  },
  {
   "cell_type": "code",
   "execution_count": 14,
   "id": "serial-engagement",
   "metadata": {},
   "outputs": [],
   "source": [
    "def evaluate(model, data_loader):\n",
    "    ys, y_preds = [], []\n",
    "    model.to(device)\n",
    "    model.eval()\n",
    "    for X, y in data_loader:\n",
    "        with torch.no_grad():\n",
    "\n",
    "            X, y = X.to(device), y.to(device)\n",
    "            outputs = model(X.view(-1, 1, 32, 32))\n",
    "            y_pred = F.log_softmax(outputs, dim=1).max(1)[1]\n",
    "            y_preds.append(y_pred.cpu().numpy())\n",
    "            ys.append(y.cpu().numpy())\n",
    "\n",
    "    return np.concatenate(y_preds, 0),  np.concatenate(ys, 0)\n"
   ]
  },
  {
   "cell_type": "code",
   "execution_count": null,
   "id": "related-gibraltar",
   "metadata": {},
   "outputs": [],
   "source": []
  },
  {
   "cell_type": "code",
   "execution_count": null,
   "id": "oriental-compact",
   "metadata": {},
   "outputs": [],
   "source": []
  },
  {
   "cell_type": "code",
   "execution_count": null,
   "id": "bibliographic-thanks",
   "metadata": {},
   "outputs": [],
   "source": []
  },
  {
   "cell_type": "markdown",
   "id": "dental-sociology",
   "metadata": {},
   "source": [
    "## Network training\n"
   ]
  },
  {
   "cell_type": "code",
   "execution_count": 15,
   "id": "welsh-confidence",
   "metadata": {},
   "outputs": [],
   "source": [
    "# import my_models\n",
    "# model = my_models.conv_net\n"
   ]
  },
  {
   "cell_type": "code",
   "execution_count": 16,
   "id": "educated-incident",
   "metadata": {},
   "outputs": [
    {
     "name": "stdout",
     "output_type": "stream",
     "text": [
      "batch_size = 16\n"
     ]
    }
   ],
   "source": [
    "print(f\"batch_size = {batch_size}\")\n",
    "model = conv_net()\n",
    "lr=1e-3\n",
    "# lr=1e-5\n",
    "# lr=1e-2\n",
    "epochs = 10\n",
    "optimizer = optimizer = torch.optim.Adam(model.parameters(), lr=lr)\n",
    "criterion = nn.CrossEntropyLoss()\n"
   ]
  },
  {
   "cell_type": "code",
   "execution_count": 17,
   "id": "posted-beverage",
   "metadata": {},
   "outputs": [],
   "source": [
    "untrained_predictions, labels = evaluate(\n",
    "    model = model.to(device), \n",
    "    data_loader = validation_loader\n",
    ")"
   ]
  },
  {
   "cell_type": "code",
   "execution_count": 18,
   "id": "educated-alert",
   "metadata": {
    "scrolled": false
   },
   "outputs": [
    {
     "data": {
      "image/png": "[encoded data removed]",
      "text/plain": [
       "<Figure size 864x576 with 2 Axes>"
      ]
     },
     "metadata": {
      "needs_background": "light"
     },
     "output_type": "display_data"
    },
    {
     "name": "stdout",
     "output_type": "stream",
     "text": [
      "accuracy\n",
      "\ttraining         \t (min:    0.615, max:    0.848, cur:    0.848)\n",
      "\tvalidation       \t (min:    0.681, max:    0.806, cur:    0.743)\n",
      "log loss\n",
      "\ttraining         \t (min:    0.412, max:    0.814, cur:    0.412)\n",
      "\tvalidation       \t (min:    0.507, max:    0.688, cur:    0.607)\n",
      "saving...\n"
     ]
    }
   ],
   "source": [
    "def train_model(model, lr, epochs, optimizer, criterion):\n",
    "    model.to(device)\n",
    "\n",
    "    liveloss = PlotLosses()\n",
    "    for epoch in range(epochs):\n",
    "        logs = {}\n",
    "        train_loss, train_accuracy = train(model, optimizer, criterion, train_loader)\n",
    "\n",
    "        logs['' + 'log loss'] = train_loss.item()\n",
    "        logs['' + 'accuracy'] = train_accuracy.item()\n",
    "        validation_loss, validation_accuracy = validate(model, criterion, validation_loader)\n",
    "        logs['val_' + 'log loss'] = validation_loss.item()\n",
    "        logs['val_' + 'accuracy'] = validation_accuracy.item()\n",
    "\n",
    "        liveloss.update(logs)\n",
    "        liveloss.draw()\n",
    "    \n",
    "    print(\"saving...\")\n",
    "    torch.save(model.state_dict(), f\"./{colab_path}checkpoints/model_{time.ctime()}.pth\")\n",
    "\n",
    "        \n",
    "    return model\n",
    "\n",
    "model = train_model(\n",
    "    model=model, \n",
    "    lr=lr, \n",
    "    epochs=epochs, \n",
    "    optimizer=optimizer, \n",
    "    criterion=criterion,\n",
    ")"
   ]
  },
  {
   "cell_type": "markdown",
   "id": "gross-roberts",
   "metadata": {},
   "source": [
    "## Evaluating the network"
   ]
  },
  {
   "cell_type": "code",
   "execution_count": 19,
   "id": "grateful-fruit",
   "metadata": {},
   "outputs": [
    {
     "name": "stdout",
     "output_type": "stream",
     "text": [
      "Untrained model accuracy: 34.72, \n",
      "Tri-class calssification means we expect ~33.33%\n",
      "\n",
      "Untrained model (weighted) f1: 51.55\n"
     ]
    }
   ],
   "source": [
    "dummy_acc = accuracy_score(untrained_predictions, labels)\n",
    "dummy_f1 = f1_score(untrained_predictions, labels, average=\"weighted\")\n",
    "print(f\"Untrained model accuracy: {round(dummy_acc*100,2)}, \\nTri-class calssification means we expect ~33.33%\")\n",
    "print(f\"\\nUntrained model (weighted) f1: {round(dummy_f1*100,2)}\")\n"
   ]
  },
  {
   "cell_type": "code",
   "execution_count": 20,
   "id": "coordinate-aggregate",
   "metadata": {},
   "outputs": [],
   "source": [
    "predictions, labels = evaluate(\n",
    "    model = model.to(device), \n",
    "    data_loader = validation_loader\n",
    ")\n",
    "trained_f1 = f1_score(predictions, labels, average=\"weighted\")"
   ]
  },
  {
   "cell_type": "code",
   "execution_count": 21,
   "id": "excess-arthritis",
   "metadata": {},
   "outputs": [
    {
     "name": "stdout",
     "output_type": "stream",
     "text": [
      "Trained model accuracy: 79.86%\n",
      "Trained model (weighted) f1: 81.0\n"
     ]
    }
   ],
   "source": [
    "print(f\"Trained model accuracy: {round(accuracy_score(predictions, labels)*100,2)}%\")\n",
    "print(f\"Trained model (weighted) f1: {round(trained_f1 ,2)*100}\")"
   ]
  },
  {
   "cell_type": "code",
   "execution_count": 22,
   "id": "funded-thickness",
   "metadata": {},
   "outputs": [],
   "source": [
    "# print(classification_report(predictions, labels))"
   ]
  },
  {
   "cell_type": "code",
   "execution_count": 23,
   "id": "orange-sculpture",
   "metadata": {},
   "outputs": [
    {
     "data": {
      "image/png": "[encoded data removed]",
      "text/plain": [
       "<Figure size 432x432 with 1 Axes>"
      ]
     },
     "metadata": {
      "needs_background": "light"
     },
     "output_type": "display_data"
    }
   ],
   "source": [
    "fig, ax = plt.subplots(figsize=(6,6))\n",
    "ConfusionMatrixDisplay.from_predictions(labels, predictions, ax=ax, colorbar=False, cmap='bone_r')\n",
    "plt.show()"
   ]
  },
  {
   "cell_type": "markdown",
   "id": "constitutional-yukon",
   "metadata": {},
   "source": [
    "## Creating the prediction CSV"
   ]
  },
  {
   "cell_type": "code",
   "execution_count": 24,
   "id": "individual-typing",
   "metadata": {},
   "outputs": [
    {
     "data": {
      "text/plain": [
       "torch.Size([16])"
      ]
     },
     "execution_count": 24,
     "metadata": {},
     "output_type": "execute_result"
    }
   ],
   "source": [
    "sample_batch = next(iter(validation_loader))\n",
    "sample_batch[1].shape"
   ]
  },
  {
   "cell_type": "code",
   "execution_count": 25,
   "id": "loaded-agriculture",
   "metadata": {},
   "outputs": [
    {
     "name": "stdout",
     "output_type": "stream",
     "text": [
      "Error loading image: test_hands/test_hand_3551.jpeg\n"
     ]
    }
   ],
   "source": [
    "test_data = HandDataset(\n",
    "    data_path=f\"{colab_path}test_hands\",\n",
    "    transformations = None,\n",
    ")\n",
    "\n",
    "# test_loader = torch.utils.data.DataLoader(\n",
    "#     test_data,\n",
    "#     batch_size=batch_size,\n",
    "#     shuffle=False,\n",
    "#     pin_memory=True)"
   ]
  },
  {
   "cell_type": "code",
   "execution_count": 26,
   "id": "located-signal",
   "metadata": {},
   "outputs": [],
   "source": [
    "test_dataset = CustomDataset(test_data, test_transforms, test_set=True)\n",
    "test_loader = DataLoader(test_dataset, batch_size=batch_size, shuffle=False)"
   ]
  },
  {
   "cell_type": "code",
   "execution_count": 27,
   "id": "second-language",
   "metadata": {},
   "outputs": [],
   "source": [
    "def predict(model, data_loader):\n",
    "    y_preds = []\n",
    "    model.to(device)\n",
    "    model.eval()\n",
    "    for X, y in data_loader:\n",
    "        with torch.no_grad():\n",
    "\n",
    "            X = X.to(device)\n",
    "            outputs = model(X.view(-1, 1, 32, 32))\n",
    "            y_pred = F.log_softmax(outputs, dim=1).max(1)[1]\n",
    "            y_preds.append(y_pred.cpu().numpy())\n",
    "\n",
    "\n",
    "    return np.concatenate(y_preds, 0)"
   ]
  },
  {
   "cell_type": "code",
   "execution_count": 28,
   "id": "facial-flavor",
   "metadata": {},
   "outputs": [],
   "source": [
    "def predict_test(model, data_loader):\n",
    "    y_preds = []\n",
    "    model.to(device)\n",
    "    model.eval()\n",
    "    for X in data_loader:\n",
    "        with torch.no_grad():\n",
    "\n",
    "            X = X.to(device)\n",
    "            outputs = model(X.view(-1, 1, 32, 32))\n",
    "            y_pred = F.log_softmax(outputs, dim=1).max(1)[1]\n",
    "            y_preds.append(y_pred.cpu().numpy())\n",
    "\n",
    "    return np.concatenate(y_preds, 0)"
   ]
  },
  {
   "cell_type": "code",
   "execution_count": 29,
   "id": "twenty-pendant",
   "metadata": {},
   "outputs": [],
   "source": [
    "final_predictions = predict_test(\n",
    "    model = model.to(device), \n",
    "#     model = model, \n",
    "#     data_loader = test_loader\n",
    "    data_loader = test_loader\n",
    ")\n"
   ]
  },
  {
   "cell_type": "code",
   "execution_count": null,
   "id": "documentary-operator",
   "metadata": {},
   "outputs": [],
   "source": []
  },
  {
   "cell_type": "code",
   "execution_count": 30,
   "id": "agreed-screening",
   "metadata": {},
   "outputs": [
    {
     "data": {
      "text/plain": [
       "{0: 235, 1: 7595, 2: 604}"
      ]
     },
     "execution_count": 30,
     "metadata": {},
     "output_type": "execute_result"
    }
   ],
   "source": [
    "# Making sure my model has diverse predictions\n",
    "# https://chat.openai.com/share/5137b837-78b8-4308-ac0b-dc3da18eea9a\n",
    "element_counts = {element: list(final_predictions).count(element) for element in set(list(final_predictions))}\n",
    "element_counts\n"
   ]
  },
  {
   "cell_type": "code",
   "execution_count": 31,
   "id": "later-rouge",
   "metadata": {},
   "outputs": [
    {
     "name": "stdout",
     "output_type": "stream",
     "text": [
      "We have 8434 images and expect 8434\n"
     ]
    }
   ],
   "source": [
    "print(f\"We have {len(final_predictions)} images and expect 8434\")"
   ]
  },
  {
   "cell_type": "code",
   "execution_count": 32,
   "id": "numerous-beach",
   "metadata": {},
   "outputs": [],
   "source": [
    "# Help getting my images to be label correctly\n",
    "# https://chat.openai.com/share/83a713df-8b84-4538-8651-cd4a35e77ce1\n",
    "with open(file=\"acse-jp2923_classified_hands.csv\", mode=\"w+\") as csv:\n",
    "    for i, prediction in enumerate(predictions, start=0):\n",
    "        string = f\"test_hand_{1+i:04}, {prediction}\\n\"\n",
    "        csv.write(string)"
   ]
  },
  {
   "cell_type": "code",
   "execution_count": null,
   "id": "varied-guatemala",
   "metadata": {},
   "outputs": [],
   "source": []
  }
 ],
 "metadata": {
  "kernelspec": {
   "display_name": "Python 3",
   "language": "python",
   "name": "python3"
  },
  "language_info": {
   "codemirror_mode": {
    "name": "ipython",
    "version": 3
   },
   "file_extension": ".py",
   "mimetype": "text/x-python",
   "name": "python",
   "nbconvert_exporter": "python",
   "pygments_lexer": "ipython3",
   "version": "3.8.8"
  }
 },
 "nbformat": 4,
 "nbformat_minor": 5
}
